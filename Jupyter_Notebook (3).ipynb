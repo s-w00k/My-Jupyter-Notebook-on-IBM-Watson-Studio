{
 "cells": [
  {
   "cell_type": "markdown",
   "metadata": {},
   "source": [
    "<center>\n",
    "    <img src=\"https://s3-api.us-geo.objectstorage.softlayer.net/cf-courses-data/CognitiveClass/Logos/organization_logo/organization_logo.png\" width=\"300\" alt=\"cognitiveclass.ai logo\"  />\n",
    "</center>\n"
   ]
  },
  {
   "cell_type": "markdown",
   "metadata": {},
   "source": [
    "#### Add your code below following the instructions given in the course\n"
   ]
  },
  {
   "cell_type": "markdown",
   "metadata": {},
   "source": [
    "<head><h1>My Jupyter Notebook on IBM Watson Studio</h1></head>"
   ]
  },
  {
   "cell_type": "markdown",
   "metadata": {
    "tags": []
   },
   "source": [
    "**MICHAEL SEUNG WOOK HONG**\n",
    "<br>CURRENT OCCUPATION: HOME APPLIANCES DEMAND PLANNER</br>"
   ]
  },
  {
   "cell_type": "markdown",
   "metadata": {},
   "source": [
    "*I am intersted in data science because I believe it is a skill which will come in handy in a position where I am required to predict and make logical decisions about the unpredictable future of future sales, and hence making orders to factories and warehouses to produce and ship desired quantities of specific products that will then have to be sold in a short amount of time, without it being left unsold or making a loss for the industry*"
   ]
  },
  {
   "cell_type": "markdown",
   "metadata": {
    "tags": []
   },
   "source": [
    "<head><h3>THE FOLLOWING CODE WILL DISPLAY AN OUTPUT OF THE EXECUTED CODE: 1+1</h3></head>"
   ]
  },
  {
   "cell_type": "code",
   "execution_count": 4,
   "metadata": {},
   "outputs": [
    {
     "data": {
      "text/plain": [
       "2"
      ]
     },
     "execution_count": 4,
     "metadata": {},
     "output_type": "execute_result"
    }
   ],
   "source": [
    "1 + 1"
   ]
  },
  {
   "cell_type": "markdown",
   "metadata": {},
   "source": [
    "<li>A</li>\n",
    "<li>B</li>\n",
    "<li>C</li>\n",
    "<br><a> href = \"https://towardsdatascience.com/why-choose-data-science-for-your-career-ca38db0c28d4?gi=791a5d4a6d41\"</a>\n",
    "<br><img src=\"https://encrypted-tbn0.gstatic.com/images?q=tbn:ANd9GcTqKIlfnz3VwtPJu-yQvPmTRAOVl3KEbUeqgtcB1zw_MpmxOujDQVLGXAbT_HBvJdM3nPs&usqp=CAU\"</br>"
   ]
  },
  {
   "cell_type": "code",
   "execution_count": null,
   "metadata": {},
   "outputs": [],
   "source": []
  }
 ],
 "metadata": {
  "kernelspec": {
   "display_name": "Python",
   "language": "python",
   "name": "conda-env-python-py"
  },
  "language_info": {
   "codemirror_mode": {
    "name": "ipython",
    "version": 3
   },
   "file_extension": ".py",
   "mimetype": "text/x-python",
   "name": "python",
   "nbconvert_exporter": "python",
   "pygments_lexer": "ipython3",
   "version": "3.7.12"
  }
 },
 "nbformat": 4,
 "nbformat_minor": 4
}
